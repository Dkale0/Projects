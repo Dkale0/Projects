{
 "cells": [
  {
   "cell_type": "markdown",
   "id": "bc422fd2",
   "metadata": {},
   "source": [
    "## Handwritten letters image recognition using CNN (notMINST dataset)"
   ]
  },
  {
   "cell_type": "code",
   "execution_count": 1,
   "id": "ad1cc611",
   "metadata": {},
   "outputs": [],
   "source": [
    "from torch import cuda\n",
    "import splitfolders\n",
    "import os"
   ]
  },
  {
   "cell_type": "markdown",
   "id": "72eae92b",
   "metadata": {},
   "source": [
    "### Preprocessing the Data\n",
    "Before we can use the data, we need to transform it into a usable state. The steps to do this are:\n",
    "* Split the Dataset\n",
    "* Remove Broken Files\n",
    "* Size normalizing/Centering and transforming data to tensors\n",
    "* Data Loaders\n"
   ]
  },
  {
   "cell_type": "markdown",
   "id": "8b6ea785",
   "metadata": {},
   "source": [
    "### Splitting Dataset\n",
    "Since our dataset has not been split into testing and training sets, we can do so easily using the splitfolder library. The splitfolders.ratio function splits our data with ratios=(.9, .0, .1), each ratio for the proportion of data for the training, validation, and testing set respectively."
   ]
  },
  {
   "cell_type": "code",
   "execution_count": 2,
   "id": "4fea27df",
   "metadata": {},
   "outputs": [],
   "source": [
    "splitfolders.ratio(\"dataset\", output=\"train_test_split\", seed=1337, ratio=(.9, .0, .1), group_prefix=None)"
   ]
  },
  {
   "cell_type": "markdown",
   "id": "5c4672c1",
   "metadata": {},
   "source": [
    "### Removing Broken Files\n",
    "Some of the files may not be valid png images. We can check the file type by checking if imghdr.what(filepath) returns \"png\". If it does not we remove the file from the testing/training set. We also travese each file in the training/testing sets using nested for loops and function from the os library allowing us to check/change/remove files from the folders."
   ]
  },
  {
   "cell_type": "code",
   "execution_count": 3,
   "id": "62b61c49",
   "metadata": {},
   "outputs": [],
   "source": [
    "cwd = os.getcwd()\n",
    "dataset_path = cwd + \"\\\\train_test_split\"\n",
    "train_path = dataset_path + \"\\\\train\"\n",
    "test_path = dataset_path + \"\\\\test\""
   ]
  },
  {
   "cell_type": "code",
   "execution_count": 4,
   "id": "d5e377c6",
   "metadata": {},
   "outputs": [],
   "source": [
    "import imghdr\n",
    "import pathlib\n",
    "\n",
    "for ds in [train_path,test_path]:\n",
    "  for path in os.listdir(ds):\n",
    "      filepath = pathlib.Path(str(ds)+'\\\\'+path)\n",
    "      for file in os.listdir(filepath):\n",
    "          currfilepath = str(filepath)+'\\\\'+file\n",
    "          if imghdr.what(currfilepath) != 'png':\n",
    "              print(f'Found broken file! : {file}')\n",
    "              os.remove(os.path.join(path, currfilepath))"
   ]
  },
  {
   "cell_type": "markdown",
   "id": "c258a7d8",
   "metadata": {},
   "source": [
    "###  Transforming data\n",
    "We set the size, where height and width is equal to 28 (pixels). We resize each image using the transforms.Resize() function. Next, we transform each image into a tensor using the transforms.ToTensor() function."
   ]
  },
  {
   "cell_type": "code",
   "execution_count": 5,
   "id": "55a95a3e",
   "metadata": {},
   "outputs": [
    {
     "name": "stderr",
     "output_type": "stream",
     "text": [
      "C:\\Users\\darsh\\anaconda3\\envs\\ml\\lib\\site-packages\\torchvision\\io\\image.py:11: UserWarning: Failed to load image Python extension: [WinError 126] The specified module could not be found\n",
      "  warn(f\"Failed to load image Python extension: {e}\")\n"
     ]
    }
   ],
   "source": [
    "import torchvision.transforms as transforms\n",
    "h = w = 28\n",
    "channels = 1\n",
    "batch_size = 64\n",
    "train_transform = transforms.Compose([\n",
    "    transforms.Resize(28),\n",
    "    transforms.ToTensor(),    \n",
    "])\n",
    "test_transform = transforms.Compose([\n",
    "    transforms.Resize(28),\n",
    "    transforms.ToTensor(),\n",
    "])"
   ]
  },
  {
   "cell_type": "markdown",
   "id": "f0c72291",
   "metadata": {},
   "source": [
    "### Create Dataloaders\n",
    "DataLoaders simplify preprocessing our data, before we use it for training our model. They can split our dataset into batches and shuffle the data (increases generalization). It is a Map-style dataset, which means it provides random-access capabilities, which allow for easier parallel loading (useful for large datasets like ours)."
   ]
  },
  {
   "cell_type": "code",
   "execution_count": 6,
   "id": "961ce2f9",
   "metadata": {},
   "outputs": [],
   "source": [
    "import torchvision\n",
    "from torch.utils.data import DataLoader"
   ]
  },
  {
   "cell_type": "code",
   "execution_count": 7,
   "id": "33960400",
   "metadata": {},
   "outputs": [],
   "source": [
    "tr_data = torchvision.datasets.ImageFolder(root=train_path, transform=train_transform)\n",
    "tst_data = torchvision.datasets.ImageFolder(root=test_path, transform=train_transform)"
   ]
  },
  {
   "cell_type": "code",
   "execution_count": 8,
   "id": "204a33aa",
   "metadata": {},
   "outputs": [],
   "source": [
    "train_loader = DataLoader(tr_data, batch_size=batch_size, shuffle=True, num_workers=0)\n",
    "test_loader = DataLoader(tst_data, batch_size=batch_size, shuffle=False, num_workers=0)"
   ]
  },
  {
   "cell_type": "markdown",
   "id": "42f24eb6",
   "metadata": {},
   "source": [
    "### Check if data correctly loaded\n",
    "We print out 4 labels and their respective images to check if our preprocessing was successful. We can also see that the letters may be of different shape/size/fonts. "
   ]
  },
  {
   "cell_type": "code",
   "execution_count": 9,
   "id": "7da22636",
   "metadata": {},
   "outputs": [
    {
     "name": "stdout",
     "output_type": "stream",
     "text": [
      "['A', 'B', 'C', 'D', 'E', 'F', 'G', 'H', 'I', 'J']\n"
     ]
    },
    {
     "data": {
      "image/png": "[encoded data removed]",
      "text/plain": [
       "<Figure size 432x288 with 1 Axes>"
      ]
     },
     "metadata": {
      "needs_background": "light"
     },
     "output_type": "display_data"
    },
    {
     "name": "stdout",
     "output_type": "stream",
     "text": [
      "    C     B     I     F\n"
     ]
    }
   ],
   "source": [
    "import matplotlib.pyplot as plt\n",
    "import numpy as np\n",
    "\n",
    "classes = os.listdir(train_path)\n",
    "print(classes) # only 10 alphabets\n",
    "def imshow(img):\n",
    "    img = img / 2 + 0.5\n",
    "    npimg = img.numpy()\n",
    "    plt.imshow(np.transpose(npimg, (1, 2, 0)))\n",
    "    plt.show()\n",
    "\n",
    "dataiter = iter(train_loader)\n",
    "images, labels = dataiter.next()\n",
    "\n",
    "imshow(torchvision.utils.make_grid(images[:4]))\n",
    "print(' '.join('%5s' % classes[labels[j]] for j in range(4)))"
   ]
  },
  {
   "cell_type": "code",
   "execution_count": 10,
   "id": "6bf168aa",
   "metadata": {},
   "outputs": [],
   "source": [
    "import torch\n",
    "# device = torch.device(\"cuda:0\" if torch.cuda.is_available() else \"cpu\")"
   ]
  },
  {
   "cell_type": "markdown",
   "id": "82d0d400",
   "metadata": {},
   "source": [
    "### Building our Model\n",
    "The first layer of a model has the parameter in_channels=3 since the png image is a RGB image, out_channel is the number of nodes for the current layer, which we chose to be 32. After this we apply the ReLU activation function on the output of the previous layer. Layers 3&4, 5&6 repeat the steps above, where the in_channel is the out_channel of the last convulutional layer and the out_channels is half of the current in_channels. Next, layer 7 applies the Max pooling function on the output, reducing the size of the data. This reduces model fitting time and helps to avoid overfitting. The next layer flattens the matrix into a vector. Layers 9,10,11 apply a linear transformation reducing the output into a vector of size 10. If we apply the softmax function on these we will get the probabilities for the image being classified to each class. \n"
   ]
  },
  {
   "cell_type": "code",
   "execution_count": 11,
   "id": "80c57e08",
   "metadata": {},
   "outputs": [],
   "source": [
    "#Dense cnn\n",
    "model = torch.nn.Sequential(\n",
    "    \n",
    "    # layers 1-6\n",
    "    torch.nn.Conv2d(in_channels=3, out_channels=32, kernel_size=3, stride=1, padding=0),\n",
    "    torch.nn.ReLU(),  \n",
    "    torch.nn.Conv2d(in_channels=32, out_channels=16, kernel_size=3, stride=1, padding=0),\n",
    "    torch.nn.ReLU(),\n",
    "    torch.nn.Conv2d(in_channels=16, out_channels=8, kernel_size=3, stride=1, padding=0),\n",
    "    torch.nn.ReLU(),\n",
    "    \n",
    "    # layers 7,8\n",
    "    torch.nn.MaxPool2d(kernel_size=2),\n",
    "    torch.nn.Flatten(),\n",
    "    \n",
    "    # layers 9,10,11\n",
    "    torch.nn.Linear(968, 512),\n",
    "    torch.nn.Linear(512, 128),\n",
    "    torch.nn.Linear(128, 10), \n",
    "\n",
    ")"
   ]
  },
  {
   "cell_type": "markdown",
   "id": "2eeb03f3",
   "metadata": {},
   "source": [
    "### Model Training\n",
    "Our loss function will be the multiclass class entropy function. the optimizer uses the Adam model to minimize this loss, we chose a learning rate similar to the one we used for the MINST dataset since they are both similar in style. We determine that 10 epochs provides a good balance between over/under fitting the model, given our learning rate. Next for each batch of data from the train_dataloader we first set our optimizers weights to zero with zero_grad(). Next we get the predicted probabilites (transformed by torch.nn.linear) for each class for that batch of data. We then calculate loss based on this output and the true label for the training data set. Next, loss.backward() is the back propgation step that finds the updates for our parameters and optimizer.step() actually updates the parameters.\n"
   ]
  },
  {
   "cell_type": "code",
   "execution_count": 24,
   "id": "0d063441",
   "metadata": {},
   "outputs": [],
   "source": [
    "criterion = torch.nn.CrossEntropyLoss()\n",
    "optimizer = torch.optim.Adam(model.parameters(), lr=0.001)"
   ]
  },
  {
   "cell_type": "code",
   "execution_count": 25,
   "id": "f7d239aa",
   "metadata": {},
   "outputs": [
    {
     "name": "stdout",
     "output_type": "stream",
     "text": [
      "0 tensor(0.0189, grad_fn=<NllLossBackward0>)\n",
      "1 tensor(0.0371, grad_fn=<NllLossBackward0>)\n",
      "2 tensor(0.0187, grad_fn=<NllLossBackward0>)\n",
      "3 tensor(0.0019, grad_fn=<NllLossBackward0>)\n",
      "4 tensor(0.2212, grad_fn=<NllLossBackward0>)\n",
      "5 tensor(0.0017, grad_fn=<NllLossBackward0>)\n",
      "6 tensor(0.0911, grad_fn=<NllLossBackward0>)\n",
      "7 tensor(2.7942e-05, grad_fn=<NllLossBackward0>)\n",
      "8 tensor(0.6959, grad_fn=<NllLossBackward0>)\n",
      "9 tensor(0.0003, grad_fn=<NllLossBackward0>)\n"
     ]
    }
   ],
   "source": [
    "# model.to(device)\n",
    "for epoch in range(10):\n",
    "    for data in train_loader:\n",
    "        image, label = data\n",
    "#         image = image.to(device)\n",
    "#         label = label.to(device)\n",
    "        optimizer.zero_grad()\n",
    "        output = model(image)\n",
    "        loss = criterion(output, label)\n",
    "        loss.backward()\n",
    "        optimizer.step()\n",
    "    print(epoch, loss)"
   ]
  },
  {
   "cell_type": "markdown",
   "id": "3e995cef",
   "metadata": {},
   "source": [
    "### Testing the Model\n",
    "The torch.no_grad() function disables gradient calculations over the weights (note: this will NOT affect the accuracy of the model) reducing memory consumption. Next we get all the batches of data from the test_loader, and get the raw output from the model (after the CrossEntropyFunction applies the softmax on the raw output of the CNN we get the probabilites) for each class. Then using the torch.max() function we get the maximum value from the tensors (returns both value and index). We increment total number of imagess (this will be 10,000 at the end) and also increment the number of images correctly classified for that particular batch of images. Finally we calculate the test accuracy by dividing the total correctly classified images by total images."
   ]
  },
  {
   "cell_type": "code",
   "execution_count": 26,
   "id": "2195dcd5",
   "metadata": {},
   "outputs": [
    {
     "name": "stdout",
     "output_type": "stream",
     "text": [
      "Test accuracy:  0.9292553191489362\n"
     ]
    }
   ],
   "source": [
    "correct = 0\n",
    "total = 0\n",
    "with torch.no_grad():\n",
    "    for data in test_loader:\n",
    "        images, labels = data[0], data[1]\n",
    "        outputs = model(images)\n",
    "        predicted = torch.max(outputs.data, 1)\n",
    "        total += labels.size(0)\n",
    "        correct += (predicted[1] == labels).sum().item()\n",
    "print(\"Test accuracy: \", correct / total)"
   ]
  },
  {
   "cell_type": "markdown",
   "id": "ddc8c45a",
   "metadata": {},
   "source": [
    "### Conclusion\n",
    "While our crossentropy was very low when training 0.003, our final accuracy on the test set is lower than expected (0.93). This can be attributed to a multitude of factors, such as possible overfitting of the model, small training data set size, optimization/loss function, or just randomness. One way to improve this accuracy would be to simply try a larger variety of (suitable) combinations parameter/model types. "
   ]
  }
 ],
 "metadata": {
  "kernelspec": {
   "display_name": "Python 3",
   "language": "python",
   "name": "python3"
  },
  "language_info": {
   "codemirror_mode": {
    "name": "ipython",
    "version": 3
   },
   "file_extension": ".py",
   "mimetype": "text/x-python",
   "name": "python",
   "nbconvert_exporter": "python",
   "pygments_lexer": "ipython3",
   "version": "3.6.13"
  }
 },
 "nbformat": 4,
 "nbformat_minor": 5
}
