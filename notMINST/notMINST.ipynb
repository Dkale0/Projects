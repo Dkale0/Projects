{
 "cells": [
  {
   "cell_type": "code",
   "execution_count": 1,
   "id": "ad1cc611",
   "metadata": {},
   "outputs": [],
   "source": [
    "from torch import cuda\n",
    "import splitfolders\n",
    "import os"
   ]
  },
  {
   "cell_type": "code",
   "execution_count": 2,
   "id": "8a5a80ef",
   "metadata": {},
   "outputs": [
    {
     "data": {
      "text/plain": [
       "True"
      ]
     },
     "execution_count": 2,
     "metadata": {},
     "output_type": "execute_result"
    }
   ],
   "source": [
    "cuda.is_available()"
   ]
  },
  {
   "cell_type": "code",
   "execution_count": 3,
   "id": "90dc5264",
   "metadata": {},
   "outputs": [],
   "source": [
    "splitfolders.ratio(\"dataset\", output=\"train_test_split\", seed=1337, ratio=(.9, .0, .1), group_prefix=None)"
   ]
  },
  {
   "cell_type": "code",
   "execution_count": 4,
   "id": "62b61c49",
   "metadata": {},
   "outputs": [],
   "source": [
    "cwd = os.getcwd()\n",
    "dataset_path = cwd + \"/train_test_split/\"\n",
    "train_path = dataset_path + \"/train/\"\n",
    "test_path = dataset_path + \"/test/\""
   ]
  },
  {
   "cell_type": "code",
   "execution_count": 17,
   "id": "d5e377c6",
   "metadata": {},
   "outputs": [
    {
     "name": "stdout",
     "output_type": "stream",
     "text": [
      "Found broken file! : RGVtb2NyYXRpY2FCb2xkT2xkc3R5bGUgQm9sZC50dGY=.png\n",
      "Found broken file! : Q3Jvc3NvdmVyIEJvbGRPYmxpcXVlLnR0Zg==.png\n"
     ]
    }
   ],
   "source": [
    "# import imghdr\n",
    "# import pathlib\n",
    "\n",
    "# for ds in [train_path,test_path]:\n",
    "#   for path in os.listdir(ds):\n",
    "#       filepath = pathlib.Path(str(ds)+'/'+path)\n",
    "#       for file in os.listdir(filepath):\n",
    "#           currfilepath = str(filepath)+'/'+file\n",
    "#           if imghdr.what(currfilepath) != 'png':\n",
    "#               print(f'Found broken file! : {file}')\n",
    "#               os.remove(os.path.join(path, currfilepath))"
   ]
  },
  {
   "cell_type": "code",
   "execution_count": 6,
   "id": "f8f6ae81",
   "metadata": {},
   "outputs": [],
   "source": [
    "import torchvision.transforms as transforms\n",
    "h = w = 28\n",
    "channels = 1\n",
    "batch_size = 64\n",
    "train_transform = transforms.Compose([\n",
    "    transforms.Resize(28),\n",
    "    transforms.ToTensor(),    \n",
    "])\n",
    "test_transform = transforms.Compose([\n",
    "    transforms.Resize(28),\n",
    "    transforms.ToTensor(),\n",
    "])"
   ]
  },
  {
   "cell_type": "code",
   "execution_count": 7,
   "id": "961ce2f9",
   "metadata": {},
   "outputs": [],
   "source": [
    "import torchvision\n",
    "from torch.utils.data import DataLoader"
   ]
  },
  {
   "cell_type": "code",
   "execution_count": 19,
   "id": "33960400",
   "metadata": {},
   "outputs": [],
   "source": [
    "tr_data = torchvision.datasets.ImageFolder(root=train_path, transform=train_transform)\n",
    "tst_data = torchvision.datasets.ImageFolder(root=test_path, transform=train_transform)"
   ]
  },
  {
   "cell_type": "code",
   "execution_count": 20,
   "id": "204a33aa",
   "metadata": {},
   "outputs": [],
   "source": [
    "train_loader = DataLoader(tr_data, batch_size=batch_size, shuffle=True, num_workers=0)\n",
    "test_loader = DataLoader(tst_data, batch_size=batch_size, shuffle=False, num_workers=0)"
   ]
  },
  {
   "cell_type": "code",
   "execution_count": 10,
   "id": "7da22636",
   "metadata": {},
   "outputs": [
    {
     "data": {
      "image/png": "[encoded data removed]",
      "text/plain": [
       "<Figure size 432x288 with 1 Axes>"
      ]
     },
     "metadata": {
      "needs_background": "light"
     },
     "output_type": "display_data"
    },
    {
     "name": "stdout",
     "output_type": "stream",
     "text": [
      "    C     F     G     B\n"
     ]
    }
   ],
   "source": [
    "import matplotlib.pyplot as plt\n",
    "import numpy as np\n",
    "\n",
    "classes = os.listdir(train_path)\n",
    "def imshow(img):\n",
    "    img = img / 2 + 0.5\n",
    "    npimg = img.numpy()\n",
    "    plt.imshow(np.transpose(npimg, (1, 2, 0)))\n",
    "    plt.show()\n",
    "\n",
    "dataiter = iter(train_loader)\n",
    "images, labels = dataiter.next()\n",
    "\n",
    "imshow(torchvision.utils.make_grid(images[:4]))\n",
    "print(' '.join('%5s' % classes[labels[j]] for j in range(4)))"
   ]
  },
  {
   "cell_type": "code",
   "execution_count": 11,
   "id": "6bf168aa",
   "metadata": {},
   "outputs": [],
   "source": [
    "import torch\n",
    "device = torch.device(\"cuda:0\" if torch.cuda.is_available() else \"cpu\")"
   ]
  },
  {
   "cell_type": "code",
   "execution_count": 12,
   "id": "d7ac804f",
   "metadata": {},
   "outputs": [
    {
     "name": "stdout",
     "output_type": "stream",
     "text": [
      "cuda:0\n"
     ]
    }
   ],
   "source": [
    "print(device)"
   ]
  },
  {
   "cell_type": "code",
   "execution_count": 21,
   "id": "36a40e3b",
   "metadata": {},
   "outputs": [],
   "source": [
    "#Dense cnn\n",
    "model = torch.nn.Sequential(\n",
    "    torch.nn.Conv2d(3, 32, 4, stride=2, padding=1),\n",
    "    torch.nn.LeakyReLU(),\n",
    "    torch.nn.Conv2d(32, 16, 2, stride=1, padding=0),\n",
    "    torch.nn.LeakyReLU(),\n",
    "    torch.nn.Conv2d(16, 8, 2, stride=1, padding=0),\n",
    "    torch.nn.LeakyReLU(),\n",
    "    torch.nn.Flatten(),\n",
    "    torch.nn.Linear(1152, 512),\n",
    "    torch.nn.Linear(512, 128),\n",
    "    torch.nn.Linear(128, 10)   \n",
    ")"
   ]
  },
  {
   "cell_type": "code",
   "execution_count": 22,
   "id": "8eaeb89f",
   "metadata": {},
   "outputs": [
    {
     "data": {
      "text/plain": [
       "10"
      ]
     },
     "execution_count": 22,
     "metadata": {},
     "output_type": "execute_result"
    }
   ],
   "source": [
    "len(classes)"
   ]
  },
  {
   "cell_type": "code",
   "execution_count": 25,
   "id": "0d063441",
   "metadata": {},
   "outputs": [],
   "source": [
    "criterion = torch.nn.CrossEntropyLoss()\n",
    "optimizer = torch.optim.Adam(model.parameters(), lr=0.0001)"
   ]
  },
  {
   "cell_type": "code",
   "execution_count": 26,
   "id": "f7d239aa",
   "metadata": {},
   "outputs": [
    {
     "name": "stdout",
     "output_type": "stream",
     "text": [
      "0 tensor(0.0879, grad_fn=<NllLossBackward0>)\n",
      "1 tensor(3.4816e-05, grad_fn=<NllLossBackward0>)\n",
      "2 tensor(0.0012, grad_fn=<NllLossBackward0>)\n",
      "3 tensor(0.0003, grad_fn=<NllLossBackward0>)\n",
      "4 tensor(0.0005, grad_fn=<NllLossBackward0>)\n",
      "5 tensor(0.0014, grad_fn=<NllLossBackward0>)\n",
      "6 tensor(6.4326e-05, grad_fn=<NllLossBackward0>)\n",
      "7 tensor(0.0009, grad_fn=<NllLossBackward0>)\n",
      "8 tensor(0.0004, grad_fn=<NllLossBackward0>)\n",
      "9 tensor(8.4503e-05, grad_fn=<NllLossBackward0>)\n",
      "10 tensor(0.0003, grad_fn=<NllLossBackward0>)\n",
      "11 tensor(1.8814e-05, grad_fn=<NllLossBackward0>)\n",
      "12 tensor(3.8444e-06, grad_fn=<NllLossBackward0>)\n",
      "13 tensor(1.9151e-05, grad_fn=<NllLossBackward0>)\n",
      "14 tensor(0.0004, grad_fn=<NllLossBackward0>)\n",
      "15 tensor(9.2387e-07, grad_fn=<NllLossBackward0>)\n",
      "16 tensor(1.6490e-06, grad_fn=<NllLossBackward0>)\n",
      "17 tensor(0.0003, grad_fn=<NllLossBackward0>)\n",
      "18 tensor(0.0010, grad_fn=<NllLossBackward0>)\n",
      "19 tensor(0.0001, grad_fn=<NllLossBackward0>)\n",
      "20 tensor(0.0003, grad_fn=<NllLossBackward0>)\n",
      "21 tensor(0.0002, grad_fn=<NllLossBackward0>)\n",
      "22 tensor(0.0019, grad_fn=<NllLossBackward0>)\n",
      "23 tensor(6.9408e-05, grad_fn=<NllLossBackward0>)\n",
      "24 tensor(7.3356e-05, grad_fn=<NllLossBackward0>)\n",
      "25 tensor(0.0010, grad_fn=<NllLossBackward0>)\n",
      "26 tensor(0.0002, grad_fn=<NllLossBackward0>)\n",
      "27 tensor(1.7463e-05, grad_fn=<NllLossBackward0>)\n",
      "28 tensor(0.0002, grad_fn=<NllLossBackward0>)\n",
      "29 tensor(1.9967e-06, grad_fn=<NllLossBackward0>)\n"
     ]
    }
   ],
   "source": [
    "# model.to(device)\n",
    "for epoch in range(30):\n",
    "    for data in train_loader:\n",
    "        image, label = data\n",
    "#         image = image.to(device)\n",
    "#         label = label.to(device)\n",
    "        optimizer.zero_grad()\n",
    "        output = model(image)\n",
    "        loss = criterion(output, label)\n",
    "        loss.backward()\n",
    "        optimizer.step()\n",
    "    print(epoch, loss)"
   ]
  },
  {
   "cell_type": "code",
   "execution_count": null,
   "id": "2195dcd5",
   "metadata": {},
   "outputs": [],
   "source": []
  }
 ],
 "metadata": {
  "kernelspec": {
   "display_name": "Python 3",
   "language": "python",
   "name": "python3"
  },
  "language_info": {
   "codemirror_mode": {
    "name": "ipython",
    "version": 3
   },
   "file_extension": ".py",
   "mimetype": "text/x-python",
   "name": "python",
   "nbconvert_exporter": "python",
   "pygments_lexer": "ipython3",
   "version": "3.6.13"
  }
 },
 "nbformat": 4,
 "nbformat_minor": 5
}
